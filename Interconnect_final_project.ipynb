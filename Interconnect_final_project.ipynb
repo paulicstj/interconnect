{
 "cells": [
  {
   "cell_type": "markdown",
   "metadata": {},
   "source": [
    "# Project: Interconnect"
   ]
  },
  {
   "cell_type": "markdown",
   "metadata": {},
   "source": [
    "## Introduction."
   ]
  },
  {
   "cell_type": "markdown",
   "metadata": {},
   "source": [
    "In the telecommunications industry, customer churn is a challenge that affects the stability and growth of businesses. Interconnect, a telecommunications operator, seeks to reduce churn by identifying at-risk customers early. To this end, the marketing team has collected data on customers and their contracts to develop a machine learning model that predicts the likelihood of churn.\n"
   ]
  },
  {
   "cell_type": "markdown",
   "metadata": {},
   "source": [
    "## Goal."
   ]
  },
  {
   "cell_type": "markdown",
   "metadata": {},
   "source": [
    "Develop a machine learning model capable of predicting customer churn with high accuracy, using the AUC-ROC metric as the main performance indicator. This will allow Interconnect to implement targeted retention strategies, such as promotions and personalized plans, to reduce customer churn."
   ]
  },
  {
   "cell_type": "markdown",
   "metadata": {},
   "source": [
    "## Development plan"
   ]
  },
  {
   "cell_type": "markdown",
   "metadata": {},
   "source": [
    "**1. Data Exploration and Preprocessing:** <br><br>\n",
    "\n",
    "We will load and analyze the available datasets to understand their structure and detect potential issues. We will identify null values, duplicates, and inconsistencies that may affect the analysis. We will then evaluate how the datasets will be handled and merge them into a single table based on customerID. We will verify the data types and perform the necessary transformations to ensure their correct interpretation by the models. In addition, we will manage missing and outlier values, applying appropriate strategies to avoid bias in the modeling. <br>\n",
    "\n",
    "**2. Exploratory Analysis:** <br><br>\n",
    "\n",
    "We will explore the relationship between variables and the churn rate to understand which factors influence customer retention. We will identify relevant patterns and correlations that can provide useful information for prediction. We will also analyze the distribution of the target variable, checking for class balance and potential biases in the data.<br>\n",
    "\n",
    "**3. Model Training and Evaluation:**<br><br>\n",
    "\n",
    "We will select and train multiple classification models, including logistic regression, decision trees, and boosting-based models. We will compare the models' performance using AUC-ROC and accuracy as key metrics. Additionally, we will optimize the hyperparameters of the most promising model to improve its performance and achieve the best possible predictive capability.<br>\n",
    "\n",
    "**4. Results and Conclusions:**<br><br>\n",
    "\n",
    "We will analyze the selected model and evaluate its impact on churn prediction, ensuring it meets the project objectives. We will present recommendations based on the findings and discuss possible improvements. Finally, we will propose strategies for implementing the model within the company, enabling Interconnect to implement effective measures to retain its customers.<br>"
   ]
  },
  {
   "cell_type": "markdown",
   "metadata": {},
   "source": [
    "## Development."
   ]
  },
  {
   "cell_type": "markdown",
   "metadata": {},
   "source": [
    "### 1. EDA and pre processing."
   ]
  },
  {
   "cell_type": "markdown",
   "metadata": {},
   "source": [
    "#### Library import."
   ]
  },
  {
   "cell_type": "code",
   "execution_count": 152,
   "metadata": {},
   "outputs": [],
   "source": [
    "\n",
    "import lightgbm as lgb\n",
    "import matplotlib.pyplot as plt\n",
    "import pandas as pd\n",
    "import seaborn as sns\n",
    "from catboost import CatBoostClassifier\n",
    "from imblearn.over_sampling import SMOTE\n",
    "from sklearn.dummy import DummyClassifier\n",
    "from sklearn.ensemble import RandomForestClassifier\n",
    "from sklearn.linear_model import LogisticRegression\n",
    "from sklearn.metrics import classification_report, roc_auc_score, confusion_matrix\n",
    "from sklearn.model_selection import GridSearchCV, train_test_split\n",
    "from sklearn.preprocessing import StandardScaler\n",
    "from xgboost import XGBClassifier\n"
   ]
  },
  {
   "cell_type": "markdown",
   "metadata": {},
   "source": [
    "#### Load data"
   ]
  },
  {
   "cell_type": "code",
   "execution_count": 153,
   "metadata": {},
   "outputs": [],
   "source": [
    "try:\n",
    "    contract_df = pd.read_csv(\"/Users/pauli/Documents/final_provider/contract.csv\")\n",
    "    internet_df = pd.read_csv(\"/Users/pauli/Documents/final_provider/internet.csv\")\n",
    "    personal_df = pd.read_csv(\"/Users/pauli/Documents/final_provider/personal.csv\")\n",
    "    phone_df = pd.read_csv(\"/Users/pauli/Documents/final_provider/phone.csv\")\n",
    "\n",
    "except FileNotFoundError:\n",
    "    contract_df = pd.read_csv(\"/datasets/final_provider/contract.csv\")\n",
    "    internet_df = pd.read_csv(\"/datasets/final_provider/internet.csv\")\n",
    "    personal_df = pd.read_csv(\"/datasets/final_provider/personal.csv\")\n",
    "    phone_df = pd.read_csv(\"/datasets/final_provider/phone.csv\")\n"
   ]
  },
  {
   "cell_type": "markdown",
   "metadata": {},
   "source": [
    "#### Preprocessing data"
   ]
  },
  {
   "cell_type": "markdown",
   "metadata": {},
   "source": [
    "##### Contract df"
   ]
  },
  {
   "cell_type": "code",
   "execution_count": 154,
   "metadata": {},
   "outputs": [
    {
     "name": "stdout",
     "output_type": "stream",
     "text": [
      "<class 'pandas.core.frame.DataFrame'>\n",
      "RangeIndex: 7043 entries, 0 to 7042\n",
      "Data columns (total 8 columns):\n",
      " #   Column            Non-Null Count  Dtype  \n",
      "---  ------            --------------  -----  \n",
      " 0   customerID        7043 non-null   object \n",
      " 1   BeginDate         7043 non-null   object \n",
      " 2   EndDate           7043 non-null   object \n",
      " 3   Type              7043 non-null   object \n",
      " 4   PaperlessBilling  7043 non-null   object \n",
      " 5   PaymentMethod     7043 non-null   object \n",
      " 6   MonthlyCharges    7043 non-null   float64\n",
      " 7   TotalCharges      7043 non-null   object \n",
      "dtypes: float64(1), object(7)\n",
      "memory usage: 440.3+ KB\n"
     ]
    }
   ],
   "source": [
    "\n",
    "\n",
    "contract_df.info()\n"
   ]
  },
  {
   "cell_type": "markdown",
   "metadata": {},
   "source": [
    "The first thing we notice is that we need to change the column names to snake case and change the data type for the columns containing date information to datetime format. The rest of the data types appear to be correct. <br>\n",
    "Something important is that the end_date column, which will be our target column, contains the string \"No\" to indicate the plans that are still active. Therefore, we'll create a new Boolean column to indicate the plans that have already ended and those that have not. We'll leave the end_date column as datetime so we can perform calculations if necessary.\n",
    "Finally, we'll change the column type from total charges to numeric."
   ]
  },
  {
   "cell_type": "code",
   "execution_count": null,
   "metadata": {},
   "outputs": [],
   "source": [
    "# Rename columns\n",
    "\n",
    "contract_df.columns = ['customer_id', 'begin_date', 'end_date', 'type', 'paperless_billing', 'payment_method', 'monthly_charges', 'total_charges']\n",
    "\n",
    "# Convert begin_date to datetime\n",
    "contract_df['begin_date'] = pd.to_datetime(contract_df['begin_date'])\n",
    "\n",
    "# Convert total_charges to numeric data.\n",
    "\n",
    "contract_df[\"total_charges\"] = pd.to_numeric(contract_df[\"total_charges\"], errors=\"coerce\").fillna(0.0)\n",
    "\n",
    "\n"
   ]
  },
  {
   "cell_type": "code",
   "execution_count": null,
   "metadata": {},
   "outputs": [
    {
     "name": "stdout",
     "output_type": "stream",
     "text": [
      "<class 'pandas.core.frame.DataFrame'>\n",
      "RangeIndex: 7043 entries, 0 to 7042\n",
      "Data columns (total 9 columns):\n",
      " #   Column             Non-Null Count  Dtype         \n",
      "---  ------             --------------  -----         \n",
      " 0   customer_id        7043 non-null   object        \n",
      " 1   begin_date         7043 non-null   datetime64[ns]\n",
      " 2   end_date           1869 non-null   datetime64[ns]\n",
      " 3   type               7043 non-null   object        \n",
      " 4   paperless_billing  7043 non-null   object        \n",
      " 5   payment_method     7043 non-null   object        \n",
      " 6   monthly_charges    7043 non-null   float64       \n",
      " 7   total_charges      7043 non-null   float64       \n",
      " 8   active_customer    7043 non-null   int64         \n",
      "dtypes: datetime64[ns](2), float64(2), int64(1), object(4)\n",
      "memory usage: 495.3+ KB\n",
      "None\n",
      "  customer_id begin_date   end_date            type paperless_billing  \\\n",
      "0  7590-VHVEG 2020-01-01        NaT  Month-to-month               Yes   \n",
      "1  5575-GNVDE 2017-04-01        NaT        One year                No   \n",
      "2  3668-QPYBK 2019-10-01 2019-12-01  Month-to-month               Yes   \n",
      "3  7795-CFOCW 2016-05-01        NaT        One year                No   \n",
      "4  9237-HQITU 2019-09-01 2019-11-01  Month-to-month               Yes   \n",
      "\n",
      "              payment_method  monthly_charges  total_charges  active_customer  \n",
      "0           Electronic check            29.85          29.85                1  \n",
      "1               Mailed check            56.95        1889.50                1  \n",
      "2               Mailed check            53.85         108.15                0  \n",
      "3  Bank transfer (automatic)            42.30        1840.75                1  \n",
      "4           Electronic check            70.70         151.65                0  \n"
     ]
    }
   ],
   "source": [
    "# Create a new column indicating whether the client is still active\n",
    "contract_df['active_customer'] = (contract_df['end_date'] == 'No').astype(int)\n",
    "\n",
    "# Convert end_date to datetime, keeping 'No' as is\n",
    "contract_df['end_date'] = pd.to_datetime(contract_df['end_date'].replace('No', None))\n",
    "\n",
    "\n",
    "print(contract_df.info())\n",
    "print(contract_df.head())"
   ]
  },
  {
   "cell_type": "code",
   "execution_count": null,
   "metadata": {},
   "outputs": [
    {
     "name": "stdout",
     "output_type": "stream",
     "text": [
      "customer_id             0\n",
      "begin_date              0\n",
      "end_date             5174\n",
      "type                    0\n",
      "paperless_billing       0\n",
      "payment_method          0\n",
      "monthly_charges         0\n",
      "total_charges           0\n",
      "active_customer         0\n",
      "dtype: int64\n",
      "0\n"
     ]
    }
   ],
   "source": [
    "#Check for null or duplicate values\n",
    "\n",
    "print (contract_df.isnull().sum())\n",
    "print (contract_df.duplicated().sum())"
   ]
  },
  {
   "cell_type": "markdown",
   "metadata": {},
   "source": [
    "It is observed that there are no duplicate values, and null values ​​are only found in end_date as expected due to the change made above."
   ]
  },
  {
   "cell_type": "markdown",
   "metadata": {},
   "source": [
    "##### Internet DF"
   ]
  },
  {
   "cell_type": "code",
   "execution_count": 158,
   "metadata": {},
   "outputs": [
    {
     "name": "stdout",
     "output_type": "stream",
     "text": [
      "<class 'pandas.core.frame.DataFrame'>\n",
      "RangeIndex: 5517 entries, 0 to 5516\n",
      "Data columns (total 8 columns):\n",
      " #   Column            Non-Null Count  Dtype \n",
      "---  ------            --------------  ----- \n",
      " 0   customerID        5517 non-null   object\n",
      " 1   InternetService   5517 non-null   object\n",
      " 2   OnlineSecurity    5517 non-null   object\n",
      " 3   OnlineBackup      5517 non-null   object\n",
      " 4   DeviceProtection  5517 non-null   object\n",
      " 5   TechSupport       5517 non-null   object\n",
      " 6   StreamingTV       5517 non-null   object\n",
      " 7   StreamingMovies   5517 non-null   object\n",
      "dtypes: object(8)\n",
      "memory usage: 344.9+ KB\n"
     ]
    }
   ],
   "source": [
    "internet_df.info()"
   ]
  },
  {
   "cell_type": "markdown",
   "metadata": {},
   "source": [
    "The data types are correct, the only suggested change is to change the column names to snake type."
   ]
  },
  {
   "cell_type": "code",
   "execution_count": null,
   "metadata": {},
   "outputs": [
    {
     "data": {
      "text/html": [
       "<div>\n",
       "<style scoped>\n",
       "    .dataframe tbody tr th:only-of-type {\n",
       "        vertical-align: middle;\n",
       "    }\n",
       "\n",
       "    .dataframe tbody tr th {\n",
       "        vertical-align: top;\n",
       "    }\n",
       "\n",
       "    .dataframe thead th {\n",
       "        text-align: right;\n",
       "    }\n",
       "</style>\n",
       "<table border=\"1\" class=\"dataframe\">\n",
       "  <thead>\n",
       "    <tr style=\"text-align: right;\">\n",
       "      <th></th>\n",
       "      <th>customer_id</th>\n",
       "      <th>internet_service</th>\n",
       "      <th>online_security</th>\n",
       "      <th>online_backup</th>\n",
       "      <th>device_protection</th>\n",
       "      <th>tech_support</th>\n",
       "      <th>streaming_tv</th>\n",
       "      <th>streaming_movies</th>\n",
       "    </tr>\n",
       "  </thead>\n",
       "  <tbody>\n",
       "    <tr>\n",
       "      <th>0</th>\n",
       "      <td>7590-VHVEG</td>\n",
       "      <td>DSL</td>\n",
       "      <td>No</td>\n",
       "      <td>Yes</td>\n",
       "      <td>No</td>\n",
       "      <td>No</td>\n",
       "      <td>No</td>\n",
       "      <td>No</td>\n",
       "    </tr>\n",
       "    <tr>\n",
       "      <th>1</th>\n",
       "      <td>5575-GNVDE</td>\n",
       "      <td>DSL</td>\n",
       "      <td>Yes</td>\n",
       "      <td>No</td>\n",
       "      <td>Yes</td>\n",
       "      <td>No</td>\n",
       "      <td>No</td>\n",
       "      <td>No</td>\n",
       "    </tr>\n",
       "    <tr>\n",
       "      <th>2</th>\n",
       "      <td>3668-QPYBK</td>\n",
       "      <td>DSL</td>\n",
       "      <td>Yes</td>\n",
       "      <td>Yes</td>\n",
       "      <td>No</td>\n",
       "      <td>No</td>\n",
       "      <td>No</td>\n",
       "      <td>No</td>\n",
       "    </tr>\n",
       "    <tr>\n",
       "      <th>3</th>\n",
       "      <td>7795-CFOCW</td>\n",
       "      <td>DSL</td>\n",
       "      <td>Yes</td>\n",
       "      <td>No</td>\n",
       "      <td>Yes</td>\n",
       "      <td>Yes</td>\n",
       "      <td>No</td>\n",
       "      <td>No</td>\n",
       "    </tr>\n",
       "    <tr>\n",
       "      <th>4</th>\n",
       "      <td>9237-HQITU</td>\n",
       "      <td>Fiber optic</td>\n",
       "      <td>No</td>\n",
       "      <td>No</td>\n",
       "      <td>No</td>\n",
       "      <td>No</td>\n",
       "      <td>No</td>\n",
       "      <td>No</td>\n",
       "    </tr>\n",
       "  </tbody>\n",
       "</table>\n",
       "</div>"
      ],
      "text/plain": [
       "  customer_id internet_service online_security online_backup  \\\n",
       "0  7590-VHVEG              DSL              No           Yes   \n",
       "1  5575-GNVDE              DSL             Yes            No   \n",
       "2  3668-QPYBK              DSL             Yes           Yes   \n",
       "3  7795-CFOCW              DSL             Yes            No   \n",
       "4  9237-HQITU      Fiber optic              No            No   \n",
       "\n",
       "  device_protection tech_support streaming_tv streaming_movies  \n",
       "0                No           No           No               No  \n",
       "1               Yes           No           No               No  \n",
       "2                No           No           No               No  \n",
       "3               Yes          Yes           No               No  \n",
       "4                No           No           No               No  "
      ]
     },
     "execution_count": 159,
     "metadata": {},
     "output_type": "execute_result"
    }
   ],
   "source": [
    "internet_df.columns = ['customer_id', 'internet_service', 'online_security', 'online_backup', 'device_protection', 'tech_support', 'streaming_tv', 'streaming_movies']\n",
    "\n",
    "#Check name change\n",
    "\n",
    "internet_df.head()"
   ]
  },
  {
   "cell_type": "code",
   "execution_count": null,
   "metadata": {},
   "outputs": [
    {
     "name": "stdout",
     "output_type": "stream",
     "text": [
      "customer_id          0\n",
      "internet_service     0\n",
      "online_security      0\n",
      "online_backup        0\n",
      "device_protection    0\n",
      "tech_support         0\n",
      "streaming_tv         0\n",
      "streaming_movies     0\n",
      "dtype: int64\n",
      "0\n"
     ]
    }
   ],
   "source": [
    "#Check for null or duplicate values\n",
    "\n",
    "print (internet_df.isnull().sum())\n",
    "print (internet_df.duplicated().sum())"
   ]
  },
  {
   "cell_type": "markdown",
   "metadata": {},
   "source": [
    "There are no null or duplicate values ​​in this dataset."
   ]
  },
  {
   "cell_type": "markdown",
   "metadata": {},
   "source": [
    "##### Personal df"
   ]
  },
  {
   "cell_type": "code",
   "execution_count": 161,
   "metadata": {},
   "outputs": [
    {
     "name": "stdout",
     "output_type": "stream",
     "text": [
      "<class 'pandas.core.frame.DataFrame'>\n",
      "RangeIndex: 7043 entries, 0 to 7042\n",
      "Data columns (total 5 columns):\n",
      " #   Column         Non-Null Count  Dtype \n",
      "---  ------         --------------  ----- \n",
      " 0   customerID     7043 non-null   object\n",
      " 1   gender         7043 non-null   object\n",
      " 2   SeniorCitizen  7043 non-null   int64 \n",
      " 3   Partner        7043 non-null   object\n",
      " 4   Dependents     7043 non-null   object\n",
      "dtypes: int64(1), object(4)\n",
      "memory usage: 275.2+ KB\n"
     ]
    }
   ],
   "source": [
    "personal_df.info()"
   ]
  },
  {
   "cell_type": "markdown",
   "metadata": {},
   "source": [
    "The data types are correct, the only suggested change is to change the column names to snake type."
   ]
  },
  {
   "cell_type": "code",
   "execution_count": null,
   "metadata": {},
   "outputs": [
    {
     "data": {
      "text/html": [
       "<div>\n",
       "<style scoped>\n",
       "    .dataframe tbody tr th:only-of-type {\n",
       "        vertical-align: middle;\n",
       "    }\n",
       "\n",
       "    .dataframe tbody tr th {\n",
       "        vertical-align: top;\n",
       "    }\n",
       "\n",
       "    .dataframe thead th {\n",
       "        text-align: right;\n",
       "    }\n",
       "</style>\n",
       "<table border=\"1\" class=\"dataframe\">\n",
       "  <thead>\n",
       "    <tr style=\"text-align: right;\">\n",
       "      <th></th>\n",
       "      <th>customer_id</th>\n",
       "      <th>gender</th>\n",
       "      <th>senior_citizen</th>\n",
       "      <th>partner</th>\n",
       "      <th>dependents</th>\n",
       "    </tr>\n",
       "  </thead>\n",
       "  <tbody>\n",
       "    <tr>\n",
       "      <th>0</th>\n",
       "      <td>7590-VHVEG</td>\n",
       "      <td>Female</td>\n",
       "      <td>0</td>\n",
       "      <td>Yes</td>\n",
       "      <td>No</td>\n",
       "    </tr>\n",
       "    <tr>\n",
       "      <th>1</th>\n",
       "      <td>5575-GNVDE</td>\n",
       "      <td>Male</td>\n",
       "      <td>0</td>\n",
       "      <td>No</td>\n",
       "      <td>No</td>\n",
       "    </tr>\n",
       "    <tr>\n",
       "      <th>2</th>\n",
       "      <td>3668-QPYBK</td>\n",
       "      <td>Male</td>\n",
       "      <td>0</td>\n",
       "      <td>No</td>\n",
       "      <td>No</td>\n",
       "    </tr>\n",
       "    <tr>\n",
       "      <th>3</th>\n",
       "      <td>7795-CFOCW</td>\n",
       "      <td>Male</td>\n",
       "      <td>0</td>\n",
       "      <td>No</td>\n",
       "      <td>No</td>\n",
       "    </tr>\n",
       "    <tr>\n",
       "      <th>4</th>\n",
       "      <td>9237-HQITU</td>\n",
       "      <td>Female</td>\n",
       "      <td>0</td>\n",
       "      <td>No</td>\n",
       "      <td>No</td>\n",
       "    </tr>\n",
       "  </tbody>\n",
       "</table>\n",
       "</div>"
      ],
      "text/plain": [
       "  customer_id  gender  senior_citizen partner dependents\n",
       "0  7590-VHVEG  Female               0     Yes         No\n",
       "1  5575-GNVDE    Male               0      No         No\n",
       "2  3668-QPYBK    Male               0      No         No\n",
       "3  7795-CFOCW    Male               0      No         No\n",
       "4  9237-HQITU  Female               0      No         No"
      ]
     },
     "execution_count": 162,
     "metadata": {},
     "output_type": "execute_result"
    }
   ],
   "source": [
    "# Rename\n",
    "personal_df.columns = ['customer_id', 'gender', 'senior_citizen', 'partner', 'dependents']\n",
    "\n",
    "# Check name change\n",
    "\n",
    "personal_df.head()"
   ]
  },
  {
   "cell_type": "code",
   "execution_count": null,
   "metadata": {},
   "outputs": [
    {
     "name": "stdout",
     "output_type": "stream",
     "text": [
      "customer_id       0\n",
      "gender            0\n",
      "senior_citizen    0\n",
      "partner           0\n",
      "dependents        0\n",
      "dtype: int64\n",
      "0\n"
     ]
    }
   ],
   "source": [
    "#Check for null or duplicate values\n",
    "\n",
    "print (personal_df.isnull().sum())\n",
    "print (personal_df.duplicated().sum())"
   ]
  },
  {
   "cell_type": "markdown",
   "metadata": {},
   "source": [
    "There are no null or duplicate values ​​in this dataset."
   ]
  },
  {
   "cell_type": "markdown",
   "metadata": {},
   "source": [
    "##### Phone df"
   ]
  },
  {
   "cell_type": "code",
   "execution_count": 164,
   "metadata": {},
   "outputs": [
    {
     "name": "stdout",
     "output_type": "stream",
     "text": [
      "<class 'pandas.core.frame.DataFrame'>\n",
      "RangeIndex: 6361 entries, 0 to 6360\n",
      "Data columns (total 2 columns):\n",
      " #   Column         Non-Null Count  Dtype \n",
      "---  ------         --------------  ----- \n",
      " 0   customerID     6361 non-null   object\n",
      " 1   MultipleLines  6361 non-null   object\n",
      "dtypes: object(2)\n",
      "memory usage: 99.5+ KB\n"
     ]
    }
   ],
   "source": [
    "phone_df.info()"
   ]
  },
  {
   "cell_type": "markdown",
   "metadata": {},
   "source": [
    "The data types are correct, the only suggested change is to change the column names to snake type. "
   ]
  },
  {
   "cell_type": "code",
   "execution_count": null,
   "metadata": {},
   "outputs": [
    {
     "data": {
      "text/html": [
       "<div>\n",
       "<style scoped>\n",
       "    .dataframe tbody tr th:only-of-type {\n",
       "        vertical-align: middle;\n",
       "    }\n",
       "\n",
       "    .dataframe tbody tr th {\n",
       "        vertical-align: top;\n",
       "    }\n",
       "\n",
       "    .dataframe thead th {\n",
       "        text-align: right;\n",
       "    }\n",
       "</style>\n",
       "<table border=\"1\" class=\"dataframe\">\n",
       "  <thead>\n",
       "    <tr style=\"text-align: right;\">\n",
       "      <th></th>\n",
       "      <th>customer_id</th>\n",
       "      <th>multiple_lines</th>\n",
       "    </tr>\n",
       "  </thead>\n",
       "  <tbody>\n",
       "    <tr>\n",
       "      <th>0</th>\n",
       "      <td>5575-GNVDE</td>\n",
       "      <td>No</td>\n",
       "    </tr>\n",
       "    <tr>\n",
       "      <th>1</th>\n",
       "      <td>3668-QPYBK</td>\n",
       "      <td>No</td>\n",
       "    </tr>\n",
       "    <tr>\n",
       "      <th>2</th>\n",
       "      <td>9237-HQITU</td>\n",
       "      <td>No</td>\n",
       "    </tr>\n",
       "    <tr>\n",
       "      <th>3</th>\n",
       "      <td>9305-CDSKC</td>\n",
       "      <td>Yes</td>\n",
       "    </tr>\n",
       "    <tr>\n",
       "      <th>4</th>\n",
       "      <td>1452-KIOVK</td>\n",
       "      <td>Yes</td>\n",
       "    </tr>\n",
       "  </tbody>\n",
       "</table>\n",
       "</div>"
      ],
      "text/plain": [
       "  customer_id multiple_lines\n",
       "0  5575-GNVDE             No\n",
       "1  3668-QPYBK             No\n",
       "2  9237-HQITU             No\n",
       "3  9305-CDSKC            Yes\n",
       "4  1452-KIOVK            Yes"
      ]
     },
     "execution_count": 165,
     "metadata": {},
     "output_type": "execute_result"
    }
   ],
   "source": [
    "# Rename\n",
    "phone_df.columns = ['customer_id', 'multiple_lines']\n",
    "\n",
    "# Check name change\n",
    "\n",
    "phone_df.head()\n"
   ]
  },
  {
   "cell_type": "code",
   "execution_count": 166,
   "metadata": {},
   "outputs": [
    {
     "name": "stdout",
     "output_type": "stream",
     "text": [
      "customer_id       0\n",
      "multiple_lines    0\n",
      "dtype: int64\n",
      "0\n"
     ]
    }
   ],
   "source": [
    "#Comprobar si hay valores nulos o duplicados\n",
    "\n",
    "print (phone_df.isnull().sum())\n",
    "print (phone_df.duplicated().sum())"
   ]
  },
  {
   "cell_type": "markdown",
   "metadata": {},
   "source": [
    "There are no null or duplicate values ​​in this dataset."
   ]
  },
  {
   "cell_type": "markdown",
   "metadata": {},
   "source": [
    "#### Merge the Datasets"
   ]
  },
  {
   "cell_type": "code",
   "execution_count": 167,
   "metadata": {},
   "outputs": [
    {
     "data": {
      "text/html": [
       "<div>\n",
       "<style scoped>\n",
       "    .dataframe tbody tr th:only-of-type {\n",
       "        vertical-align: middle;\n",
       "    }\n",
       "\n",
       "    .dataframe tbody tr th {\n",
       "        vertical-align: top;\n",
       "    }\n",
       "\n",
       "    .dataframe thead th {\n",
       "        text-align: right;\n",
       "    }\n",
       "</style>\n",
       "<table border=\"1\" class=\"dataframe\">\n",
       "  <thead>\n",
       "    <tr style=\"text-align: right;\">\n",
       "      <th></th>\n",
       "      <th>customer_id</th>\n",
       "      <th>begin_date</th>\n",
       "      <th>end_date</th>\n",
       "      <th>type</th>\n",
       "      <th>paperless_billing</th>\n",
       "      <th>payment_method</th>\n",
       "      <th>monthly_charges</th>\n",
       "      <th>total_charges</th>\n",
       "      <th>active_customer</th>\n",
       "      <th>internet_service</th>\n",
       "      <th>...</th>\n",
       "      <th>online_backup</th>\n",
       "      <th>device_protection</th>\n",
       "      <th>tech_support</th>\n",
       "      <th>streaming_tv</th>\n",
       "      <th>streaming_movies</th>\n",
       "      <th>gender</th>\n",
       "      <th>senior_citizen</th>\n",
       "      <th>partner</th>\n",
       "      <th>dependents</th>\n",
       "      <th>multiple_lines</th>\n",
       "    </tr>\n",
       "  </thead>\n",
       "  <tbody>\n",
       "    <tr>\n",
       "      <th>0</th>\n",
       "      <td>7590-VHVEG</td>\n",
       "      <td>2020-01-01</td>\n",
       "      <td>NaT</td>\n",
       "      <td>Month-to-month</td>\n",
       "      <td>Yes</td>\n",
       "      <td>Electronic check</td>\n",
       "      <td>29.85</td>\n",
       "      <td>29.85</td>\n",
       "      <td>1</td>\n",
       "      <td>DSL</td>\n",
       "      <td>...</td>\n",
       "      <td>Yes</td>\n",
       "      <td>No</td>\n",
       "      <td>No</td>\n",
       "      <td>No</td>\n",
       "      <td>No</td>\n",
       "      <td>Female</td>\n",
       "      <td>0</td>\n",
       "      <td>Yes</td>\n",
       "      <td>No</td>\n",
       "      <td>NaN</td>\n",
       "    </tr>\n",
       "    <tr>\n",
       "      <th>1</th>\n",
       "      <td>5575-GNVDE</td>\n",
       "      <td>2017-04-01</td>\n",
       "      <td>NaT</td>\n",
       "      <td>One year</td>\n",
       "      <td>No</td>\n",
       "      <td>Mailed check</td>\n",
       "      <td>56.95</td>\n",
       "      <td>1889.50</td>\n",
       "      <td>1</td>\n",
       "      <td>DSL</td>\n",
       "      <td>...</td>\n",
       "      <td>No</td>\n",
       "      <td>Yes</td>\n",
       "      <td>No</td>\n",
       "      <td>No</td>\n",
       "      <td>No</td>\n",
       "      <td>Male</td>\n",
       "      <td>0</td>\n",
       "      <td>No</td>\n",
       "      <td>No</td>\n",
       "      <td>No</td>\n",
       "    </tr>\n",
       "    <tr>\n",
       "      <th>2</th>\n",
       "      <td>3668-QPYBK</td>\n",
       "      <td>2019-10-01</td>\n",
       "      <td>2019-12-01</td>\n",
       "      <td>Month-to-month</td>\n",
       "      <td>Yes</td>\n",
       "      <td>Mailed check</td>\n",
       "      <td>53.85</td>\n",
       "      <td>108.15</td>\n",
       "      <td>0</td>\n",
       "      <td>DSL</td>\n",
       "      <td>...</td>\n",
       "      <td>Yes</td>\n",
       "      <td>No</td>\n",
       "      <td>No</td>\n",
       "      <td>No</td>\n",
       "      <td>No</td>\n",
       "      <td>Male</td>\n",
       "      <td>0</td>\n",
       "      <td>No</td>\n",
       "      <td>No</td>\n",
       "      <td>No</td>\n",
       "    </tr>\n",
       "    <tr>\n",
       "      <th>3</th>\n",
       "      <td>7795-CFOCW</td>\n",
       "      <td>2016-05-01</td>\n",
       "      <td>NaT</td>\n",
       "      <td>One year</td>\n",
       "      <td>No</td>\n",
       "      <td>Bank transfer (automatic)</td>\n",
       "      <td>42.30</td>\n",
       "      <td>1840.75</td>\n",
       "      <td>1</td>\n",
       "      <td>DSL</td>\n",
       "      <td>...</td>\n",
       "      <td>No</td>\n",
       "      <td>Yes</td>\n",
       "      <td>Yes</td>\n",
       "      <td>No</td>\n",
       "      <td>No</td>\n",
       "      <td>Male</td>\n",
       "      <td>0</td>\n",
       "      <td>No</td>\n",
       "      <td>No</td>\n",
       "      <td>NaN</td>\n",
       "    </tr>\n",
       "    <tr>\n",
       "      <th>4</th>\n",
       "      <td>9237-HQITU</td>\n",
       "      <td>2019-09-01</td>\n",
       "      <td>2019-11-01</td>\n",
       "      <td>Month-to-month</td>\n",
       "      <td>Yes</td>\n",
       "      <td>Electronic check</td>\n",
       "      <td>70.70</td>\n",
       "      <td>151.65</td>\n",
       "      <td>0</td>\n",
       "      <td>Fiber optic</td>\n",
       "      <td>...</td>\n",
       "      <td>No</td>\n",
       "      <td>No</td>\n",
       "      <td>No</td>\n",
       "      <td>No</td>\n",
       "      <td>No</td>\n",
       "      <td>Female</td>\n",
       "      <td>0</td>\n",
       "      <td>No</td>\n",
       "      <td>No</td>\n",
       "      <td>No</td>\n",
       "    </tr>\n",
       "  </tbody>\n",
       "</table>\n",
       "<p>5 rows × 21 columns</p>\n",
       "</div>"
      ],
      "text/plain": [
       "  customer_id begin_date   end_date            type paperless_billing  \\\n",
       "0  7590-VHVEG 2020-01-01        NaT  Month-to-month               Yes   \n",
       "1  5575-GNVDE 2017-04-01        NaT        One year                No   \n",
       "2  3668-QPYBK 2019-10-01 2019-12-01  Month-to-month               Yes   \n",
       "3  7795-CFOCW 2016-05-01        NaT        One year                No   \n",
       "4  9237-HQITU 2019-09-01 2019-11-01  Month-to-month               Yes   \n",
       "\n",
       "              payment_method  monthly_charges  total_charges  active_customer  \\\n",
       "0           Electronic check            29.85          29.85                1   \n",
       "1               Mailed check            56.95        1889.50                1   \n",
       "2               Mailed check            53.85         108.15                0   \n",
       "3  Bank transfer (automatic)            42.30        1840.75                1   \n",
       "4           Electronic check            70.70         151.65                0   \n",
       "\n",
       "  internet_service  ... online_backup device_protection tech_support  \\\n",
       "0              DSL  ...           Yes                No           No   \n",
       "1              DSL  ...            No               Yes           No   \n",
       "2              DSL  ...           Yes                No           No   \n",
       "3              DSL  ...            No               Yes          Yes   \n",
       "4      Fiber optic  ...            No                No           No   \n",
       "\n",
       "  streaming_tv streaming_movies  gender senior_citizen  partner dependents  \\\n",
       "0           No               No  Female              0      Yes         No   \n",
       "1           No               No    Male              0       No         No   \n",
       "2           No               No    Male              0       No         No   \n",
       "3           No               No    Male              0       No         No   \n",
       "4           No               No  Female              0       No         No   \n",
       "\n",
       "  multiple_lines  \n",
       "0            NaN  \n",
       "1             No  \n",
       "2             No  \n",
       "3            NaN  \n",
       "4             No  \n",
       "\n",
       "[5 rows x 21 columns]"
      ]
     },
     "execution_count": 167,
     "metadata": {},
     "output_type": "execute_result"
    }
   ],
   "source": [
    "\n",
    "merged_df = contract_df.merge(internet_df, on=\"customer_id\", how=\"left\")\n",
    "merged_df = merged_df.merge(personal_df, on=\"customer_id\", how=\"left\")\n",
    "merged_df = merged_df.merge(phone_df, on=\"customer_id\", how=\"left\")\n",
    "\n",
    "\n",
    "merged_df.head()\n"
   ]
  },
  {
   "cell_type": "markdown",
   "metadata": {},
   "source": [
    "Let's check the number of null values ​​in each column of merged_df to see how complete the dataset is after the merge."
   ]
  },
  {
   "cell_type": "code",
   "execution_count": 168,
   "metadata": {},
   "outputs": [
    {
     "data": {
      "text/plain": [
       "customer_id             0\n",
       "begin_date              0\n",
       "end_date             5174\n",
       "type                    0\n",
       "paperless_billing       0\n",
       "payment_method          0\n",
       "monthly_charges         0\n",
       "total_charges           0\n",
       "active_customer         0\n",
       "internet_service     1526\n",
       "online_security      1526\n",
       "online_backup        1526\n",
       "device_protection    1526\n",
       "tech_support         1526\n",
       "streaming_tv         1526\n",
       "streaming_movies     1526\n",
       "gender                  0\n",
       "senior_citizen          0\n",
       "partner                 0\n",
       "dependents              0\n",
       "multiple_lines        682\n",
       "dtype: int64"
      ]
     },
     "execution_count": 168,
     "metadata": {},
     "output_type": "execute_result"
    }
   ],
   "source": [
    "merged_df.isnull().sum()\n"
   ]
  },
  {
   "cell_type": "markdown",
   "metadata": {},
   "source": [
    "It appears that the columns with null values ​​come from the internet_df dataset. Since this dataset contains information about internet services, the null values ​​most likely correspond to customers who don't have internet service. Therefore, we'll replace these NaN values ​​with 'No'. We'll do the same with the NaN values ​​in multiple_lines."
   ]
  },
  {
   "cell_type": "code",
   "execution_count": 169,
   "metadata": {},
   "outputs": [],
   "source": [
    "internet_cols = [\"internet_service\", \"online_security\", \"online_backup\", \"device_protection\", \"tech_support\", \"streaming_tv\", \"streaming_movies\"\n",
    "]\n",
    "\n",
    "merged_df[internet_cols] = merged_df[internet_cols].fillna(\"No\")\n",
    "\n",
    "merged_df[\"multiple_lines\"] = merged_df[\"multiple_lines\"].fillna(\"No\")"
   ]
  },
  {
   "cell_type": "code",
   "execution_count": 170,
   "metadata": {},
   "outputs": [
    {
     "data": {
      "text/plain": [
       "customer_id             0\n",
       "begin_date              0\n",
       "end_date             5174\n",
       "type                    0\n",
       "paperless_billing       0\n",
       "payment_method          0\n",
       "monthly_charges         0\n",
       "total_charges           0\n",
       "active_customer         0\n",
       "internet_service        0\n",
       "online_security         0\n",
       "online_backup           0\n",
       "device_protection       0\n",
       "tech_support            0\n",
       "streaming_tv            0\n",
       "streaming_movies        0\n",
       "gender                  0\n",
       "senior_citizen          0\n",
       "partner                 0\n",
       "dependents              0\n",
       "multiple_lines          0\n",
       "dtype: int64"
      ]
     },
     "execution_count": 170,
     "metadata": {},
     "output_type": "execute_result"
    }
   ],
   "source": [
    "#Comprobar que ya no hay valores nulos\n",
    "\n",
    "merged_df.isnull().sum()"
   ]
  },
  {
   "cell_type": "code",
   "execution_count": 171,
   "metadata": {},
   "outputs": [
    {
     "name": "stdout",
     "output_type": "stream",
     "text": [
      "<class 'pandas.core.frame.DataFrame'>\n",
      "RangeIndex: 7043 entries, 0 to 7042\n",
      "Data columns (total 21 columns):\n",
      " #   Column             Non-Null Count  Dtype         \n",
      "---  ------             --------------  -----         \n",
      " 0   customer_id        7043 non-null   object        \n",
      " 1   begin_date         7043 non-null   datetime64[ns]\n",
      " 2   end_date           1869 non-null   datetime64[ns]\n",
      " 3   type               7043 non-null   object        \n",
      " 4   paperless_billing  7043 non-null   object        \n",
      " 5   payment_method     7043 non-null   object        \n",
      " 6   monthly_charges    7043 non-null   float64       \n",
      " 7   total_charges      7043 non-null   float64       \n",
      " 8   active_customer    7043 non-null   int64         \n",
      " 9   internet_service   7043 non-null   object        \n",
      " 10  online_security    7043 non-null   object        \n",
      " 11  online_backup      7043 non-null   object        \n",
      " 12  device_protection  7043 non-null   object        \n",
      " 13  tech_support       7043 non-null   object        \n",
      " 14  streaming_tv       7043 non-null   object        \n",
      " 15  streaming_movies   7043 non-null   object        \n",
      " 16  gender             7043 non-null   object        \n",
      " 17  senior_citizen     7043 non-null   int64         \n",
      " 18  partner            7043 non-null   object        \n",
      " 19  dependents         7043 non-null   object        \n",
      " 20  multiple_lines     7043 non-null   object        \n",
      "dtypes: datetime64[ns](2), float64(2), int64(2), object(15)\n",
      "memory usage: 1.1+ MB\n"
     ]
    }
   ],
   "source": [
    "merged_df.info()\n"
   ]
  },
  {
   "cell_type": "markdown",
   "metadata": {},
   "source": [
    "We cleaned and unified the data, ensuring consistency. We converted column names to snake_case, adjusted data types, and handled null values, replacing those for internet services and phone lines with \"No.\" We also created the active_customer variable to identify active customers. We did not change categorical or binary variables to Boolean, as they will be coded later.\n",
    "\n",
    "The final dataset has 7,043 records and 21 columns, ready for exploratory analysis."
   ]
  },
  {
   "cell_type": "markdown",
   "metadata": {},
   "source": [
    "### 2. EDA."
   ]
  },
  {
   "cell_type": "code",
   "execution_count": null,
   "metadata": {},
   "outputs": [
    {
     "data": {
      "image/png": "[encoded data removed]",
      "text/plain": [
       "<Figure size 600x400 with 1 Axes>"
      ]
     },
     "metadata": {},
     "output_type": "display_data"
    }
   ],
   "source": [
    "sns.set_style(\"whitegrid\")\n",
    "\n",
    "# 1. Distribution of active vs. inactive customers\n",
    "plt.figure(figsize=(6, 4))\n",
    "sns.countplot(x=\"active_customer\", data=merged_df)\n",
    "plt.xticks([0, 1], [\"Inactive\", \"Active\"])\n",
    "plt.xlabel(\"Customer Status\")\n",
    "plt.ylabel(\"Count\")\n",
    "plt.title(\"Distribution of Active vs. Inactive Customers\")\n",
    "plt.show()"
   ]
  },
  {
   "cell_type": "markdown",
   "metadata": {},
   "source": [
    "The graph shows that there are significantly more active customers than inactive ones, indicating a class imbalance in the target variable. This can affect model performance, so we will later consider techniques such as oversampling, undersampling, or adjusting class weights to improve churn prediction."
   ]
  },
  {
   "cell_type": "code",
   "execution_count": null,
   "metadata": {},
   "outputs": [
    {
     "data": {
      "image/png": "[encoded data removed]",
      "text/plain": [
       "<Figure size 600x400 with 1 Axes>"
      ]
     },
     "metadata": {},
     "output_type": "display_data"
    }
   ],
   "source": [
    "# Contract type distribution\n",
    "plt.figure(figsize=(6, 4))\n",
    "sns.countplot(y=\"type\", data=merged_df, order=merged_df[\"type\"].value_counts().index)\n",
    "plt.xlabel(\"Count\")\n",
    "plt.ylabel(\"Contract Type\")\n",
    "plt.title(\"Distribution of Contract Types\")\n",
    "plt.show()"
   ]
  },
  {
   "cell_type": "markdown",
   "metadata": {},
   "source": [
    "This chart shows that most customers have monthly contracts, while one- and two-year contracts are less common.\n",
    "This could indicate that customers with monthly contracts have more flexibility to cancel service, which could be related to a higher churn rate. To confirm this, let's analyze the proportion of inactive customers with each contract type."
   ]
  },
  {
   "cell_type": "code",
   "execution_count": null,
   "metadata": {},
   "outputs": [
    {
     "name": "stderr",
     "output_type": "stream",
     "text": [
      "/var/folders/cq/bs731p7n52x64481gqr1xjvm0000gn/T/ipykernel_71548/556824438.py:8: FutureWarning: \n",
      "\n",
      "Passing `palette` without assigning `hue` is deprecated and will be removed in v0.14.0. Assign the `x` variable to `hue` and set `legend=False` for the same effect.\n",
      "\n",
      "  sns.barplot(\n",
      "/var/folders/cq/bs731p7n52x64481gqr1xjvm0000gn/T/ipykernel_71548/556824438.py:8: UserWarning: \n",
      "The palette list has fewer values (1) than needed (3) and will cycle, which may produce an uninterpretable plot.\n",
      "  sns.barplot(\n"
     ]
    },
    {
     "data": {
      "image/png": "[encoded data removed]",
      "text/plain": [
       "<Figure size 800x500 with 1 Axes>"
      ]
     },
     "metadata": {},
     "output_type": "display_data"
    }
   ],
   "source": [
    "contract_status_counts = contract_df.groupby([\"type\", \"active_customer\"]).size().unstack()\n",
    "\n",
    "# Calculate the percentage of inactive customers by contract type\n",
    "contract_status_counts[\"Inactive_Rate\"] = contract_status_counts[0] / contract_status_counts.sum(axis=1)\n",
    "\n",
    "\n",
    "plt.figure(figsize=(8, 5))\n",
    "sns.barplot(\n",
    "    x=contract_status_counts.index,\n",
    "    y=contract_status_counts[\"Inactive_Rate\"],\n",
    "    palette=[\"#8da0cb\"]\n",
    ")\n",
    "plt.ylabel(\"Inactive Customer Rate\")\n",
    "plt.xlabel(\"Contract Type\")\n",
    "plt.title(\"Proportion of Inactive Customers by Contract Type\")\n",
    "plt.ylim(0, 1)\n",
    "plt.show()\n"
   ]
  },
  {
   "cell_type": "markdown",
   "metadata": {},
   "source": [
    "The graph confirms what was expected: the cancellation rate is much higher for customers with monthly contracts compared to those with one- or two-year contracts."
   ]
  },
  {
   "cell_type": "code",
   "execution_count": null,
   "metadata": {},
   "outputs": [
    {
     "name": "stderr",
     "output_type": "stream",
     "text": [
      "/var/folders/cq/bs731p7n52x64481gqr1xjvm0000gn/T/ipykernel_71548/1911180214.py:7: FutureWarning: \n",
      "\n",
      "Passing `palette` without assigning `hue` is deprecated and will be removed in v0.14.0. Assign the `x` variable to `hue` and set `legend=False` for the same effect.\n",
      "\n",
      "  sns.boxplot(x=contract_df[\"active_customer\"], y=contract_df[\"monthly_charges\"], palette=[\"#e41a1c\", \"#377eb8\"])\n",
      "/var/folders/cq/bs731p7n52x64481gqr1xjvm0000gn/T/ipykernel_71548/1911180214.py:14: FutureWarning: \n",
      "\n",
      "Passing `palette` without assigning `hue` is deprecated and will be removed in v0.14.0. Assign the `x` variable to `hue` and set `legend=False` for the same effect.\n",
      "\n",
      "  sns.boxplot(x=contract_df[\"active_customer\"], y=contract_df[\"total_charges\"], palette=[\"#e41a1c\", \"#377eb8\"])\n"
     ]
    },
    {
     "data": {
      "image/png": "[encoded data removed]",
      "text/plain": [
       "<Figure size 1200x500 with 2 Axes>"
      ]
     },
     "metadata": {},
     "output_type": "display_data"
    }
   ],
   "source": [
    "#Compare monthly and total charges between active and inactive customers\n",
    "\n",
    "plt.figure(figsize=(12, 5))\n",
    "\n",
    "# Monthly charges\n",
    "plt.subplot(1, 2, 1)\n",
    "sns.boxplot(x=contract_df[\"active_customer\"], y=contract_df[\"monthly_charges\"], palette=[\"#e41a1c\", \"#377eb8\"])\n",
    "plt.xlabel(\"Customer Status (0 = Inactive, 1 = Active)\")\n",
    "plt.ylabel(\"Monthly Charges ($)\")\n",
    "plt.title(\"Monthly Charges by Customer Status\")\n",
    "\n",
    "# Total charges\n",
    "plt.subplot(1, 2, 2)\n",
    "sns.boxplot(x=contract_df[\"active_customer\"], y=contract_df[\"total_charges\"], palette=[\"#e41a1c\", \"#377eb8\"])\n",
    "plt.xlabel(\"Customer Status (0 = Inactive, 1 = Active)\")\n",
    "plt.ylabel(\"Total Charges ($)\")\n",
    "plt.title(\"Total Charges by Customer Status\")\n",
    "\n",
    "plt.tight_layout()\n",
    "plt.show()\n"
   ]
  },
  {
   "cell_type": "markdown",
   "metadata": {},
   "source": [
    "**Monthly Fees:** Inactive customers (red) tend to pay higher monthly fees compared to active customers (blue). This suggests that customers with higher fees may cancel more frequently. <br>\n",
    "**Total Fees:** Inactive customers have paid less overall, indicating that they cancel earlier. There are a large number of outliers among active customers, suggesting that some have been with the company for a long time and have accumulated high payments. This confirms the hypothesis that cancellations occur more frequently with short contracts or new customers."
   ]
  },
  {
   "cell_type": "markdown",
   "metadata": {},
   "source": [
    "Now, to streamline the model a bit, we'll eliminate columns that don't affect the prediction, starting with customer_id, since it's just an identifier, and total_charges, which is highly correlated with monthly_charges. We also eliminate the end_date, since it's only known for customers who have already left; it's not useful for predictions. We also have the column that indicates whether the customer is active or not."
   ]
  },
  {
   "cell_type": "code",
   "execution_count": 176,
   "metadata": {},
   "outputs": [],
   "source": [
    "merged_df = merged_df.drop(columns=[\"customer_id\", \"total_charges\", \"end_date\"])\n"
   ]
  },
  {
   "cell_type": "markdown",
   "metadata": {},
   "source": [
    "Additionally, we're going to remove the begin date column and add one that calculates how many months the client has been around, to avoid formatting issues when arranging the data for the model."
   ]
  },
  {
   "cell_type": "code",
   "execution_count": null,
   "metadata": {},
   "outputs": [],
   "source": [
    "\n",
    "# Reference date\n",
    "reference_date = pd.to_datetime(\"2020-02-01\")\n",
    "\n",
    "# Calculate customer tenure in full months\n",
    "merged_df[\"months_active\"] = ((reference_date - merged_df[\"begin_date\"]).dt.days // 30).astype(int)\n",
    "\n",
    "# Delete begin date\n",
    "merged_df = merged_df.drop(columns=[\"begin_date\"])\n",
    "\n"
   ]
  },
  {
   "cell_type": "code",
   "execution_count": 178,
   "metadata": {},
   "outputs": [
    {
     "data": {
      "text/html": [
       "<div>\n",
       "<style scoped>\n",
       "    .dataframe tbody tr th:only-of-type {\n",
       "        vertical-align: middle;\n",
       "    }\n",
       "\n",
       "    .dataframe tbody tr th {\n",
       "        vertical-align: top;\n",
       "    }\n",
       "\n",
       "    .dataframe thead th {\n",
       "        text-align: right;\n",
       "    }\n",
       "</style>\n",
       "<table border=\"1\" class=\"dataframe\">\n",
       "  <thead>\n",
       "    <tr style=\"text-align: right;\">\n",
       "      <th></th>\n",
       "      <th>type</th>\n",
       "      <th>paperless_billing</th>\n",
       "      <th>payment_method</th>\n",
       "      <th>monthly_charges</th>\n",
       "      <th>active_customer</th>\n",
       "      <th>internet_service</th>\n",
       "      <th>online_security</th>\n",
       "      <th>online_backup</th>\n",
       "      <th>device_protection</th>\n",
       "      <th>tech_support</th>\n",
       "      <th>streaming_tv</th>\n",
       "      <th>streaming_movies</th>\n",
       "      <th>gender</th>\n",
       "      <th>senior_citizen</th>\n",
       "      <th>partner</th>\n",
       "      <th>dependents</th>\n",
       "      <th>multiple_lines</th>\n",
       "      <th>months_active</th>\n",
       "    </tr>\n",
       "  </thead>\n",
       "  <tbody>\n",
       "    <tr>\n",
       "      <th>0</th>\n",
       "      <td>Month-to-month</td>\n",
       "      <td>Yes</td>\n",
       "      <td>Electronic check</td>\n",
       "      <td>29.85</td>\n",
       "      <td>1</td>\n",
       "      <td>DSL</td>\n",
       "      <td>No</td>\n",
       "      <td>Yes</td>\n",
       "      <td>No</td>\n",
       "      <td>No</td>\n",
       "      <td>No</td>\n",
       "      <td>No</td>\n",
       "      <td>Female</td>\n",
       "      <td>0</td>\n",
       "      <td>Yes</td>\n",
       "      <td>No</td>\n",
       "      <td>No</td>\n",
       "      <td>1</td>\n",
       "    </tr>\n",
       "    <tr>\n",
       "      <th>1</th>\n",
       "      <td>One year</td>\n",
       "      <td>No</td>\n",
       "      <td>Mailed check</td>\n",
       "      <td>56.95</td>\n",
       "      <td>1</td>\n",
       "      <td>DSL</td>\n",
       "      <td>Yes</td>\n",
       "      <td>No</td>\n",
       "      <td>Yes</td>\n",
       "      <td>No</td>\n",
       "      <td>No</td>\n",
       "      <td>No</td>\n",
       "      <td>Male</td>\n",
       "      <td>0</td>\n",
       "      <td>No</td>\n",
       "      <td>No</td>\n",
       "      <td>No</td>\n",
       "      <td>34</td>\n",
       "    </tr>\n",
       "    <tr>\n",
       "      <th>2</th>\n",
       "      <td>Month-to-month</td>\n",
       "      <td>Yes</td>\n",
       "      <td>Mailed check</td>\n",
       "      <td>53.85</td>\n",
       "      <td>0</td>\n",
       "      <td>DSL</td>\n",
       "      <td>Yes</td>\n",
       "      <td>Yes</td>\n",
       "      <td>No</td>\n",
       "      <td>No</td>\n",
       "      <td>No</td>\n",
       "      <td>No</td>\n",
       "      <td>Male</td>\n",
       "      <td>0</td>\n",
       "      <td>No</td>\n",
       "      <td>No</td>\n",
       "      <td>No</td>\n",
       "      <td>4</td>\n",
       "    </tr>\n",
       "    <tr>\n",
       "      <th>3</th>\n",
       "      <td>One year</td>\n",
       "      <td>No</td>\n",
       "      <td>Bank transfer (automatic)</td>\n",
       "      <td>42.30</td>\n",
       "      <td>1</td>\n",
       "      <td>DSL</td>\n",
       "      <td>Yes</td>\n",
       "      <td>No</td>\n",
       "      <td>Yes</td>\n",
       "      <td>Yes</td>\n",
       "      <td>No</td>\n",
       "      <td>No</td>\n",
       "      <td>Male</td>\n",
       "      <td>0</td>\n",
       "      <td>No</td>\n",
       "      <td>No</td>\n",
       "      <td>No</td>\n",
       "      <td>45</td>\n",
       "    </tr>\n",
       "    <tr>\n",
       "      <th>4</th>\n",
       "      <td>Month-to-month</td>\n",
       "      <td>Yes</td>\n",
       "      <td>Electronic check</td>\n",
       "      <td>70.70</td>\n",
       "      <td>0</td>\n",
       "      <td>Fiber optic</td>\n",
       "      <td>No</td>\n",
       "      <td>No</td>\n",
       "      <td>No</td>\n",
       "      <td>No</td>\n",
       "      <td>No</td>\n",
       "      <td>No</td>\n",
       "      <td>Female</td>\n",
       "      <td>0</td>\n",
       "      <td>No</td>\n",
       "      <td>No</td>\n",
       "      <td>No</td>\n",
       "      <td>5</td>\n",
       "    </tr>\n",
       "  </tbody>\n",
       "</table>\n",
       "</div>"
      ],
      "text/plain": [
       "             type paperless_billing             payment_method  \\\n",
       "0  Month-to-month               Yes           Electronic check   \n",
       "1        One year                No               Mailed check   \n",
       "2  Month-to-month               Yes               Mailed check   \n",
       "3        One year                No  Bank transfer (automatic)   \n",
       "4  Month-to-month               Yes           Electronic check   \n",
       "\n",
       "   monthly_charges  active_customer internet_service online_security  \\\n",
       "0            29.85                1              DSL              No   \n",
       "1            56.95                1              DSL             Yes   \n",
       "2            53.85                0              DSL             Yes   \n",
       "3            42.30                1              DSL             Yes   \n",
       "4            70.70                0      Fiber optic              No   \n",
       "\n",
       "  online_backup device_protection tech_support streaming_tv streaming_movies  \\\n",
       "0           Yes                No           No           No               No   \n",
       "1            No               Yes           No           No               No   \n",
       "2           Yes                No           No           No               No   \n",
       "3            No               Yes          Yes           No               No   \n",
       "4            No                No           No           No               No   \n",
       "\n",
       "   gender  senior_citizen partner dependents multiple_lines  months_active  \n",
       "0  Female               0     Yes         No             No              1  \n",
       "1    Male               0      No         No             No             34  \n",
       "2    Male               0      No         No             No              4  \n",
       "3    Male               0      No         No             No             45  \n",
       "4  Female               0      No         No             No              5  "
      ]
     },
     "execution_count": 178,
     "metadata": {},
     "output_type": "execute_result"
    }
   ],
   "source": [
    "merged_df.head()\n"
   ]
  },
  {
   "cell_type": "markdown",
   "metadata": {},
   "source": [
    "In the EDA, we identified that most customers are still active, and that there is a significant imbalance between classes. We found that monthly contracts are associated with a higher churn rate. Furthermore, customers who cancel tend to have higher monthly charges but lower total spending, suggesting early cancellations.\n",
    "\n",
    "We also analyzed temporal behavior and created a new variable, months_active, to represent customer tenure in months. Finally, we observed that numerical variables have moderate correlations with churn, indicating that categorical variables will play a key role in predictive models."
   ]
  },
  {
   "cell_type": "markdown",
   "metadata": {},
   "source": [
    "#### Prepare data for training and correct class imbalance with SMOTE."
   ]
  },
  {
   "cell_type": "code",
   "execution_count": 179,
   "metadata": {},
   "outputs": [
    {
     "name": "stderr",
     "output_type": "stream",
     "text": [
      "/opt/anaconda3/lib/python3.12/site-packages/sklearn/base.py:474: FutureWarning: `BaseEstimator._validate_data` is deprecated in 1.6 and will be removed in 1.7. Use `sklearn.utils.validation.validate_data` instead. This function becomes public and is part of the scikit-learn developer API.\n",
      "  warnings.warn(\n"
     ]
    }
   ],
   "source": [
    "\n",
    "X = merged_df.drop(columns=['active_customer'])\n",
    "y = merged_df['active_customer']\n",
    "\n",
    "# OHE\n",
    "X = pd.get_dummies(X, drop_first=True)\n",
    "\n",
    "\n",
    "X_train, X_test, y_train, y_test = train_test_split( X, y, test_size=0.2, random_state=42, stratify=y)\n",
    "\n",
    "# SMOTE\n",
    "smote = SMOTE(random_state=42)\n",
    "X_train_resampled, y_train_resampled = smote.fit_resample(X_train, y_train)\n",
    "\n"
   ]
  },
  {
   "cell_type": "markdown",
   "metadata": {},
   "source": [
    "### 3. Model training and evaluation."
   ]
  },
  {
   "cell_type": "code",
   "execution_count": null,
   "metadata": {},
   "outputs": [
    {
     "name": "stdout",
     "output_type": "stream",
     "text": [
      "Dummy Classifier Report (Most Frequent Strategy):\n",
      "              precision    recall  f1-score   support\n",
      "\n",
      "           0       0.00      0.00      0.00       374\n",
      "           1       0.73      1.00      0.85      1035\n",
      "\n",
      "    accuracy                           0.73      1409\n",
      "   macro avg       0.37      0.50      0.42      1409\n",
      "weighted avg       0.54      0.73      0.62      1409\n",
      "\n",
      "ROC AUC Score: 0.5000\n",
      "Confusion Matrix:\n",
      "[[   0  374]\n",
      " [   0 1035]]\n"
     ]
    },
    {
     "name": "stderr",
     "output_type": "stream",
     "text": [
      "/opt/anaconda3/lib/python3.12/site-packages/sklearn/metrics/_classification.py:1565: UndefinedMetricWarning: Precision is ill-defined and being set to 0.0 in labels with no predicted samples. Use `zero_division` parameter to control this behavior.\n",
      "  _warn_prf(average, modifier, f\"{metric.capitalize()} is\", len(result))\n",
      "/opt/anaconda3/lib/python3.12/site-packages/sklearn/metrics/_classification.py:1565: UndefinedMetricWarning: Precision is ill-defined and being set to 0.0 in labels with no predicted samples. Use `zero_division` parameter to control this behavior.\n",
      "  _warn_prf(average, modifier, f\"{metric.capitalize()} is\", len(result))\n",
      "/opt/anaconda3/lib/python3.12/site-packages/sklearn/metrics/_classification.py:1565: UndefinedMetricWarning: Precision is ill-defined and being set to 0.0 in labels with no predicted samples. Use `zero_division` parameter to control this behavior.\n",
      "  _warn_prf(average, modifier, f\"{metric.capitalize()} is\", len(result))\n"
     ]
    }
   ],
   "source": [
    "#Sanity Test\n",
    "\n",
    "dummy = DummyClassifier(strategy=\"most_frequent\", random_state=15)\n",
    "dummy.fit(X_train, y_train)\n",
    "\n",
    "# Predict\n",
    "y_pred_dummy = dummy.predict(X_test)\n",
    "y_proba_dummy = dummy.predict_proba(X_test)[:, 1]\n",
    "\n",
    "# Evaluation\n",
    "print(\"Dummy Classifier Report (Most Frequent Strategy):\")\n",
    "print(classification_report(y_test, y_pred_dummy))\n",
    "\n",
    "roc_auc = roc_auc_score(y_test, y_proba_dummy)\n",
    "print(f\"ROC AUC Score: {roc_auc:.4f}\")\n",
    "\n",
    "print(\"Confusion Matrix:\")\n",
    "print(confusion_matrix(y_test, y_pred_dummy))\n"
   ]
  },
  {
   "cell_type": "markdown",
   "metadata": {},
   "source": [
    "The model didn't predict any of them correctly. Although the accuracy is 73%, this is misleading: it only reflects that most customers are active. The model isn't learning anything useful.\n",
    "\n",
    "This result is expected and desired as a baseline. Any model we test from now on must exceed these metrics."
   ]
  },
  {
   "cell_type": "code",
   "execution_count": 181,
   "metadata": {},
   "outputs": [
    {
     "name": "stdout",
     "output_type": "stream",
     "text": [
      "Logistic Regression Classification Report:\n",
      "              precision    recall  f1-score   support\n",
      "\n",
      "           0       0.51      0.65      0.57       374\n",
      "           1       0.86      0.77      0.81      1035\n",
      "\n",
      "    accuracy                           0.74      1409\n",
      "   macro avg       0.69      0.71      0.69      1409\n",
      "weighted avg       0.77      0.74      0.75      1409\n",
      "\n",
      "ROC AUC Score: 0.8001\n",
      "Confusion Matrix:\n",
      "[[244 130]\n",
      " [234 801]]\n"
     ]
    }
   ],
   "source": [
    "# Logistic Regression\n",
    "\n",
    "scaler = StandardScaler()\n",
    "X_train_scaled = scaler.fit_transform(X_train_resampled)\n",
    "X_test_scaled = scaler.transform(X_test)\n",
    "\n",
    "logreg = LogisticRegression(random_state=15, max_iter=1000)\n",
    "logreg.fit(X_train_scaled, y_train_resampled)\n",
    "\n",
    "y_pred_logreg = logreg.predict(X_test_scaled)\n",
    "y_proba_logreg = logreg.predict_proba(X_test_scaled)[:, 1]\n",
    "\n",
    "print(\"Logistic Regression Classification Report:\")\n",
    "print(classification_report(y_test, y_pred_logreg))\n",
    "\n",
    "roc_auc = roc_auc_score(y_test, y_proba_logreg)\n",
    "print(f\"ROC AUC Score: {roc_auc:.4f}\")\n",
    "\n",
    "print(\"Confusion Matrix:\")\n",
    "print(confusion_matrix(y_test, y_pred_logreg))\n"
   ]
  },
  {
   "cell_type": "markdown",
   "metadata": {},
   "source": [
    "The model correctly predicted 244 out of 374 churns, and correctly predicted 801 active customers, although it was mistaken for 234. It also achieved an overall accuracy of 74% and an ROC AUC of 0.80, indicating a good ability to distinguish between churning and remaining active customers."
   ]
  },
  {
   "cell_type": "code",
   "execution_count": null,
   "metadata": {},
   "outputs": [
    {
     "name": "stdout",
     "output_type": "stream",
     "text": [
      "Random Forest Classification Report:\n",
      "              precision    recall  f1-score   support\n",
      "\n",
      "           0       0.57      0.62      0.60       374\n",
      "           1       0.86      0.83      0.85      1035\n",
      "\n",
      "    accuracy                           0.78      1409\n",
      "   macro avg       0.72      0.73      0.72      1409\n",
      "weighted avg       0.78      0.78      0.78      1409\n",
      "\n",
      "ROC AUC Score: 0.8178\n",
      "Confusion Matrix:\n",
      "[[231 143]\n",
      " [171 864]]\n"
     ]
    }
   ],
   "source": [
    "#RandomForestClassifier (default parameters)\n",
    "\n",
    "rf = RandomForestClassifier(random_state=15)\n",
    "rf.fit(X_train_resampled, y_train_resampled)\n",
    "\n",
    "\n",
    "y_pred_rf = rf.predict(X_test)\n",
    "y_proba_rf = rf.predict_proba(X_test)[:, 1]\n",
    "\n",
    "\n",
    "print(\"Random Forest Classification Report:\")\n",
    "print(classification_report(y_test, y_pred_rf))\n",
    "\n",
    "roc_auc = roc_auc_score(y_test, y_proba_rf)\n",
    "print(f\"ROC AUC Score: {roc_auc:.4f}\")\n",
    "\n",
    "print(\"Confusion Matrix:\")\n",
    "print(confusion_matrix(y_test, y_pred_rf))\n"
   ]
  },
  {
   "cell_type": "markdown",
   "metadata": {},
   "source": [
    "The model achieved an accuracy of 78%, which represents an improvement over the logistic regression model. It achieved an ROC AUC score of 0.8178, slightly exceeding the value obtained with logistic regression and suggesting a better ability to distinguish between customers who cancel and those who do not."
   ]
  },
  {
   "cell_type": "code",
   "execution_count": 183,
   "metadata": {},
   "outputs": [
    {
     "name": "stdout",
     "output_type": "stream",
     "text": [
      "Fitting 3 folds for each of 48 candidates, totalling 144 fits\n",
      "Best Random Forest Classification Report:\n",
      "              precision    recall  f1-score   support\n",
      "\n",
      "           0       0.57      0.61      0.59       374\n",
      "           1       0.86      0.84      0.85      1035\n",
      "\n",
      "    accuracy                           0.78      1409\n",
      "   macro avg       0.72      0.73      0.72      1409\n",
      "weighted avg       0.78      0.78      0.78      1409\n",
      "\n",
      "ROC AUC Score: 0.8164\n",
      "Confusion Matrix:\n",
      "[[230 144]\n",
      " [170 865]]\n"
     ]
    }
   ],
   "source": [
    "#Random Forrest con Hiperparámetros \n",
    "\n",
    "\n",
    "rf_base = RandomForestClassifier(random_state=15)\n",
    "\n",
    "\n",
    "param_grid = {\n",
    "    'n_estimators': [100, 200],\n",
    "    'max_depth': [10, 20, None],\n",
    "    'min_samples_split': [2, 5],\n",
    "    'min_samples_leaf': [1, 2],\n",
    "    'max_features': ['sqrt', 'log2']}\n",
    "\n",
    "\n",
    "grid_search = GridSearchCV(\n",
    "    estimator=rf_base,\n",
    "    param_grid=param_grid,\n",
    "    scoring='roc_auc',\n",
    "    cv=3,\n",
    "    n_jobs=-1,\n",
    "    verbose=1)\n",
    "\n",
    "\n",
    "grid_search.fit(X_train_resampled, y_train_resampled)\n",
    "\n",
    "\n",
    "best_rf = grid_search.best_estimator_\n",
    "\n",
    "\n",
    "y_pred_best = best_rf.predict(X_test)\n",
    "y_proba_best = best_rf.predict_proba(X_test)[:, 1]\n",
    "\n",
    "print(\"Best Random Forest Classification Report:\")\n",
    "print(classification_report(y_test, y_pred_best))\n",
    "\n",
    "roc_auc = roc_auc_score(y_test, y_proba_best)\n",
    "print(f\"ROC AUC Score: {roc_auc:.4f}\")\n",
    "\n",
    "print(\"Confusion Matrix:\")\n",
    "print(confusion_matrix(y_test, y_pred_best))\n"
   ]
  },
  {
   "cell_type": "markdown",
   "metadata": {},
   "source": [
    "The model with tuned hyperparameters doesn't improve significantly compared to the baseline. The F1, ROC AUC, and accuracy are the same, so it's not worthwhile."
   ]
  },
  {
   "cell_type": "code",
   "execution_count": 184,
   "metadata": {},
   "outputs": [
    {
     "name": "stdout",
     "output_type": "stream",
     "text": [
      "[LightGBM] [Warning] Found whitespace in feature_names, replace with underlines\n",
      "[LightGBM] [Info] Number of positive: 4139, number of negative: 4139\n",
      "[LightGBM] [Info] Auto-choosing row-wise multi-threading, the overhead of testing was 0.002793 seconds.\n",
      "You can set `force_row_wise=true` to remove the overhead.\n",
      "And if memory is not enough, you can set `force_col_wise=true`.\n",
      "[LightGBM] [Info] Total Bins 371\n",
      "[LightGBM] [Info] Number of data points in the train set: 8278, number of used features: 21\n",
      "[LightGBM] [Info] [binary:BoostFromScore]: pavg=0.500000 -> initscore=0.000000\n",
      "LightGBM Classification Report:\n",
      "              precision    recall  f1-score   support\n",
      "\n",
      "           0       0.56      0.63      0.60       374\n",
      "           1       0.86      0.82      0.84      1035\n",
      "\n",
      "    accuracy                           0.77      1409\n",
      "   macro avg       0.71      0.73      0.72      1409\n",
      "weighted avg       0.78      0.77      0.78      1409\n",
      "\n",
      "ROC AUC Score: 0.8250\n",
      "Confusion Matrix:\n",
      "[[237 137]\n",
      " [185 850]]\n"
     ]
    }
   ],
   "source": [
    "#LightGBM \n",
    "\n",
    "\n",
    "lgbm = lgb.LGBMClassifier(random_state=15)\n",
    "lgbm.fit(X_train_resampled, y_train_resampled)\n",
    "\n",
    "\n",
    "y_pred_lgb = lgbm.predict(X_test)\n",
    "y_proba_lgb = lgbm.predict_proba(X_test)[:, 1]\n",
    "\n",
    "\n",
    "print(\"LightGBM Classification Report:\")\n",
    "print(classification_report(y_test, y_pred_lgb))\n",
    "\n",
    "roc_auc = roc_auc_score(y_test, y_proba_lgb)\n",
    "print(f\"ROC AUC Score: {roc_auc:.4f}\")\n",
    "\n",
    "print(\"Confusion Matrix:\")\n",
    "print(confusion_matrix(y_test, y_pred_lgb))\n"
   ]
  },
  {
   "cell_type": "markdown",
   "metadata": {},
   "source": [
    "Although the churn F1 score is equal to that of Random Forest, the ROC AUC is the highest to date (0.82), indicating better overall discrimination between classes.\n",
    "For class 0 (customers who canceled), it achieved a precision of 0.56 and a recall of 0.63, meaning it correctly detected 63% of actual churns.\n",
    "In class 1 (active customers), the model maintained high performance with a precision of 0.86, a recall of 0.82, and an F1 score of 0.84, demonstrating good balance across both classes."
   ]
  },
  {
   "cell_type": "code",
   "execution_count": 185,
   "metadata": {},
   "outputs": [
    {
     "name": "stdout",
     "output_type": "stream",
     "text": [
      "XGBoost Classification Report:\n",
      "              precision    recall  f1-score   support\n",
      "\n",
      "           0       0.56      0.61      0.58       374\n",
      "           1       0.85      0.82      0.84      1035\n",
      "\n",
      "    accuracy                           0.77      1409\n",
      "   macro avg       0.70      0.72      0.71      1409\n",
      "weighted avg       0.77      0.77      0.77      1409\n",
      "\n",
      "ROC AUC Score: 0.8205\n",
      "Confusion Matrix:\n",
      "[[227 147]\n",
      " [182 853]]\n"
     ]
    },
    {
     "name": "stderr",
     "output_type": "stream",
     "text": [
      "/opt/anaconda3/lib/python3.12/site-packages/xgboost/training.py:183: UserWarning: [17:11:20] WARNING: /Users/runner/work/xgboost/xgboost/src/learner.cc:738: \n",
      "Parameters: { \"use_label_encoder\" } are not used.\n",
      "\n",
      "  bst.update(dtrain, iteration=i, fobj=obj)\n"
     ]
    }
   ],
   "source": [
    "#XG Boost\n",
    "\n",
    "xgb = XGBClassifier(random_state=15, use_label_encoder=False, eval_metric='logloss')\n",
    "xgb.fit(X_train_resampled, y_train_resampled)\n",
    "\n",
    "\n",
    "y_pred_xgb = xgb.predict(X_test)\n",
    "y_proba_xgb = xgb.predict_proba(X_test)[:, 1]\n",
    "\n",
    "print(\"XGBoost Classification Report:\")\n",
    "print(classification_report(y_test, y_pred_xgb))\n",
    "\n",
    "roc_auc = roc_auc_score(y_test, y_proba_xgb)\n",
    "print(f\"ROC AUC Score: {roc_auc:.4f}\")\n",
    "\n",
    "print(\"Confusion Matrix:\")\n",
    "print(confusion_matrix(y_test, y_pred_xgb))\n"
   ]
  },
  {
   "cell_type": "markdown",
   "metadata": {},
   "source": [
    "It has an accuracy of 77%, on par with previous models. For class 0 (customers who canceled), it achieved a precision of 0.56, a recall of 0.61, and an F1-score of 0.58. In class 1 (active customers), XGBoost showed solid performance, with a precision of 0.85 and a recall of 0.82, resulting in an F1-score of 0.84, the same as LightGBM. The confusion matrix shows that the model correctly identified 227 customers who canceled and 853 who remained active.\n",
    "\n",
    "The model achieved an ROC AUC score of 0.8205, which is lower than the 0.8250 obtained with LightGBM."
   ]
  },
  {
   "cell_type": "code",
   "execution_count": 186,
   "metadata": {},
   "outputs": [
    {
     "name": "stdout",
     "output_type": "stream",
     "text": [
      "CatBoost Classification Report:\n",
      "              precision    recall  f1-score   support\n",
      "\n",
      "           0       0.57      0.66      0.61       374\n",
      "           1       0.87      0.82      0.84      1035\n",
      "\n",
      "    accuracy                           0.78      1409\n",
      "   macro avg       0.72      0.74      0.72      1409\n",
      "weighted avg       0.79      0.78      0.78      1409\n",
      "\n",
      "ROC AUC Score: 0.8332\n",
      "Confusion Matrix:\n",
      "[[245 129]\n",
      " [188 847]]\n"
     ]
    }
   ],
   "source": [
    "#CatBoost\n",
    "\n",
    "catboost = CatBoostClassifier(verbose=0, random_state=15)\n",
    "catboost.fit(X_train_resampled, y_train_resampled)\n",
    "\n",
    "\n",
    "y_pred_cb = catboost.predict(X_test)\n",
    "y_proba_cb = catboost.predict_proba(X_test)[:, 1]\n",
    "\n",
    "print(\"CatBoost Classification Report:\")\n",
    "print(classification_report(y_test, y_pred_cb))\n",
    "\n",
    "roc_auc = roc_auc_score(y_test, y_proba_cb)\n",
    "print(f\"ROC AUC Score: {roc_auc:.4f}\")\n",
    "\n",
    "print(\"Confusion Matrix:\")\n",
    "print(confusion_matrix(y_test, y_pred_cb))\n"
   ]
  },
  {
   "cell_type": "markdown",
   "metadata": {},
   "source": [
    "CatBoost achieved an accuracy of 78%. For class 0, it achieved a precision of 0.57, a recall of 0.66, and an F1-score of 0.61, the highest value obtained so far for this class. This indicates that the model is more effective at identifying customers who actually cancel the service.\n",
    "\n",
    "In class 1, performance was also solid, with an accuracy of 87% and an F1-score of 0.84. It also achieved an ROC AUC score of 0.8332, the best among all the models tested.\n",
    "\n",
    "**These results position CatBoost as the best model so far, and since it stood out the most among the Boost-type models, we will try adding hyperparameters to see if it improves performance even further.**"
   ]
  },
  {
   "cell_type": "code",
   "execution_count": null,
   "metadata": {},
   "outputs": [
    {
     "name": "stdout",
     "output_type": "stream",
     "text": [
      "Fitting 3 folds for each of 81 candidates, totalling 243 fits\n",
      "Tuned CatBoost Classification Report:\n",
      "              precision    recall  f1-score   support\n",
      "\n",
      "           0       0.58      0.60      0.59       374\n",
      "           1       0.85      0.84      0.85      1035\n",
      "\n",
      "    accuracy                           0.78      1409\n",
      "   macro avg       0.71      0.72      0.72      1409\n",
      "weighted avg       0.78      0.78      0.78      1409\n",
      "\n",
      "ROC AUC Score: 0.8221\n",
      "Confusion Matrix:\n",
      "[[225 149]\n",
      " [166 869]]\n"
     ]
    }
   ],
   "source": [
    "#CatBoost with Hyperparameters.\n",
    "\n",
    "\n",
    "cat = CatBoostClassifier( verbose=0,random_state=15)\n",
    "\n",
    "\n",
    "param_grid = {'depth': [4, 6, 8],\n",
    "   'learning_rate': [0.01, 0.05, 0.1],\n",
    "    'iterations': [100, 300, 500],\n",
    "    'l2_leaf_reg': [1, 3, 5]}\n",
    "\n",
    "grid_search = GridSearchCV(\n",
    "    estimator=cat,\n",
    "    param_grid=param_grid,\n",
    "    scoring='roc_auc',\n",
    "    cv=3,\n",
    "    n_jobs=-1,\n",
    "    verbose=1\n",
    ")\n",
    "\n",
    "\n",
    "grid_search.fit(X_train_resampled, y_train_resampled)\n",
    "\n",
    "\n",
    "best_cat = grid_search.best_estimator_\n",
    "\n",
    "\n",
    "y_pred_best = best_cat.predict(X_test)\n",
    "y_proba_best = best_cat.predict_proba(X_test)[:, 1]\n",
    "\n",
    "\n",
    "print(\"Tuned CatBoost Classification Report:\")\n",
    "print(classification_report(y_test, y_pred_best))\n",
    "\n",
    "roc_auc = roc_auc_score(y_test, y_proba_best)\n",
    "print(f\"ROC AUC Score: {roc_auc:.4f}\")\n",
    "\n",
    "print(\"Confusion Matrix:\")\n",
    "print(confusion_matrix(y_test, y_pred_best))"
   ]
  },
  {
   "cell_type": "markdown",
   "metadata": {},
   "source": [
    "Hyperparameter tuning did not improve the model. Therefore, the original CatBoost remains the best model."
   ]
  },
  {
   "cell_type": "markdown",
   "metadata": {},
   "source": [
    "During the modeling stage, several classifiers were trained and evaluated with the aim of predicting customer churn. The logistic regression model served as a baseline, achieving decent performance with an ROC AUC of 0.8001. Subsequently, more complex models such as Random Forest, LightGBM, XGBoost, and CatBoost were evaluated, with CatBoost performing the best, with an F1-score of 0.61 for churn and an ROC AUC of 0.8332. Although attempts were made to tune the hyperparameters of some models, performance did not improve, confirming that the original CatBoost is an optimal fit for the available data and is the model chosen for this project.\n",
    "\n"
   ]
  },
  {
   "cell_type": "markdown",
   "metadata": {},
   "source": [
    "## Results and conclusions"
   ]
  },
  {
   "cell_type": "markdown",
   "metadata": {},
   "source": [
    "\n",
    "In the first phase of the project, four main data sources were worked with: contract information, internet services, personal data, and telephone services. The datasets were cleaned, renamed in snake_case format, and combined into a single main DataFrame. Date columns were transformed, a new variable called `months_active` representing customer tenure was generated, and null values ​​and inconsistent data types were handled. Finally, `customer_id`, `total_charges`, and `end_date` were removed to reduce noise in the model. <br>\n",
    "\n",
    "In the EDA, it was found that most customers were active, evidencing a class imbalance. Month-to-month contracts and payment methods such as e-check showed higher cancellation rates. Customers with high monthly charges and low tenure were more likely to cancel. Temporal, categorical, and numerical analyses were performed to detect patterns that could feed into the predictive model.\n",
    "\n",
    "To prepare the model, categorical variables were encoded using one-hot encoding, and the predictor variables (X) were separated from the target variable (active_customer). The dataset was divided into training and test sets, and the SMOTE technique was applied to balance classes. For scale-sensitive models, StandardScaler was selectively applied. <br>\n",
    "\n",
    "The models yielded the following results:\n",
    "\n",
    "- **DummyClassifier**: served as a sanity test, with an ROC AUC of 0.50 and a recall of 0.00 for cancellations.\n",
    "- **Logistic Regression**: ROC AUC of 0.8001 and F1-score of 0.57 for cancellations.\n",
    "- **Random Forest**: improved performance with a ROC AUC of 0.8178 and F1-score of 0.60.\n",
    "- **LightGBM**: achieved an ROC AUC of 0.8250, with an F1 score of 0.60.\n",
    "- **XGBoost**: similar performance, with an ROC AUC of 0.8205 and an F1 score of 0.58.\n",
    "- **CatBoost**: was the best model, with an ROC AUC of 0.8332 and an F1 score of 0.61. Hyperparameter tuning did not improve the results.\n",
    "\n",
    "**Final Conclusion**\n",
    "The CatBoost model, with its default parameters, established itself as the best option for predicting churn. Its balanced performance, especially in detecting churn, makes it ideal for integration into a retention strategy. It is recommended to implement it alongside a system that automates the sending of personalized promotions to at-risk users.\n"
   ]
  }
 ],
 "metadata": {
  "kernelspec": {
   "display_name": "base",
   "language": "python",
   "name": "python3"
  },
  "language_info": {
   "codemirror_mode": {
    "name": "ipython",
    "version": 3
   },
   "file_extension": ".py",
   "mimetype": "text/x-python",
   "name": "python",
   "nbconvert_exporter": "python",
   "pygments_lexer": "ipython3",
   "version": "3.12.4"
  }
 },
 "nbformat": 4,
 "nbformat_minor": 2
}
